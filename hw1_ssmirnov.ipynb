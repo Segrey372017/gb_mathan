{
  "nbformat": 4,
  "nbformat_minor": 0,
  "metadata": {
    "colab": {
      "name": "hw1_ssmirnov.ipynb",
      "provenance": [],
      "collapsed_sections": [],
      "toc_visible": true,
      "authorship_tag": "ABX9TyMoUe53t/8WWu/Jc9wha7z6",
      "include_colab_link": true
    },
    "kernelspec": {
      "name": "python3",
      "display_name": "Python 3"
    },
    "language_info": {
      "name": "python"
    }
  },
  "cells": [
    {
      "cell_type": "markdown",
      "metadata": {
        "id": "view-in-github",
        "colab_type": "text"
      },
      "source": [
        "<a href=\"https://colab.research.google.com/github/Segrey372017/gb_mathan/blob/main/hw1_ssmirnov.ipynb\" target=\"_parent\"><img src=\"https://colab.research.google.com/assets/colab-badge.svg\" alt=\"Open In Colab\"/></a>"
      ]
    },
    {
      "cell_type": "code",
      "metadata": {
        "id": "roE-7XhNRcN8"
      },
      "source": [
        ""
      ],
      "execution_count": null,
      "outputs": []
    },
    {
      "cell_type": "markdown",
      "metadata": {
        "id": "yrMyrelVYbV4"
      },
      "source": [
        "# Практическое задание к уроку 2\n"
      ]
    },
    {
      "cell_type": "markdown",
      "metadata": {
        "id": "gVxXWFY-YiXY"
      },
      "source": [
        "### Задание1"
      ]
    },
    {
      "cell_type": "markdown",
      "metadata": {
        "id": "TinEe3bmYvNV"
      },
      "source": [
        "Прочитать высказывания математической логики, построить их отрицания и установить истинность"
      ]
    },
    {
      "cell_type": "markdown",
      "metadata": {
        "id": "QtfMtzENYxB0"
      },
      "source": [
        "1. $ \\forall y \\owns [0;1]: sgn(y) = 1$ \n",
        "Читается: \"Для всех $y$, находящихся в интервале от 0 до 1 включительно, функция $sgn(y)$ принимает значени равное 1.\". Данное высказывание ложно, поскольку 0 не является ни положительным ни отрицательным числом.\n",
        "Отрицание высказывания: $  \\overline{(\\forall y \\owns [0;1]: sgn(y) = 1)} = \\exists y \\owns [0;1]  sgn(y) \\ne 1$. Отрицание высказывания истинно."
      ]
    },
    {
      "cell_type": "markdown",
      "metadata": {
        "id": "gqY1FgCmi0Xt"
      },
      "source": [
        "2. $ \\forall n \\owns \\mathbf{N} > 2: \\exists x,y,z \\owns \\mathbf{N}: x^n =y^n + z^n $ Читается: \"Для всех значений $n$, являющихся натуральными числами больше 2, существуют такие натуральные числа $x,y,z$, для которых выполнятеся тождество $x^n =y^n + z^n$\". Высказывание ложно, поскольку в следствие теоремы Ферма уравнение: $x^n =y^n + z^n$ не имеет корней из множества натуральных чисел.\n",
        "Отрицание высказывания: $ \\overline{(\\forall n \\owns \\mathbf{N} > 2: \\exists x,y,z \\owns \\mathbf{N}: x^n =y^n + z^n )} = \\exists n \\owns \\mathbf{N} > 2: \\forall x,y,z \\owns \\mathbf{N}: x^n \\ne y^n+z^n$. Читается: \"Для некоторых $n$ являющихся натуральными числами больше 2, что для всех  $x,y,z$ справедливо неравенство $x^n \\ne y^n+z^n$. Отрицание высказывания истинно."
      ]
    },
    {
      "cell_type": "markdown",
      "metadata": {
        "id": "Zlw3D01Tcq9p"
      },
      "source": [
        "3. $\\forall x \\owns \\mathbf{R} \\exists X \\owns \\mathbf{R}: X > x$ Читается: \"Для всех $x$, принадлежащих множеству действительных чисел, существуют некоторые $X$, являющиеся дейтвительными числами, что $X$ больше $x$\". Высказывание истинно - на бесконечной числовой прямой всегда надется число $X$, которое будет больше числа $x$. Отрицание высказывания: $\\overline{(\\forall x \\owns \\mathbf{R} \\exists X \\owns \\mathbf{R}: X > x)}= \\exists x \\owns \\mathbf{R} \\forall X \\owns \\mathbf{R}: X \\le x$. Читается: \"Существуют такие $x$ из множества действительных чисел, что для всех $X$ из множества действительных чисел, $x$ будет больше или равно $X$. Отрицание высказывания ложно - из прямого утверждения не обязательно следует обратное (нельзя на бесконечной числовой прямой найти число которое будет больше  всех существующих)."
      ]
    },
    {
      "cell_type": "markdown",
      "metadata": {
        "id": "bUvrlw0Q3LIR"
      },
      "source": [
        "4. $ \\forall x \\owns \\mathbf{C} \\nexists y \\owns \\mathbf{C}: x>y||x<y$ Читается: \"Для всех $x$, являющихся комплексными числами, не существует такого числа комплексного числа $y$, которое меньше или больше x\". Высказывание ложно, поскольку множество комплексных чисел поглощает множества всех действительных чисел, то на бесконечной числовой прямой найдется чило  которое будет или больше или меньше заданного. Отрицание высказывания: $\\overline{(\\forall x \\owns \\mathbf{C} \\nexists y \\owns \\mathbf{C}: x>y||x<y)} = \\exists x \\owns \\mathbf{C}  \\exists y \\owns \\mathbf{C}: x\\le y | x \\ge y$. Для некоторых $x$, являющихся комплексными числами, существуют некоторые комплексные числа $y$, которые одновременно $x\\le y $ и $x \\ge y$. Высказывание истинно для случая когда $x=y$."
      ]
    },
    {
      "cell_type": "markdown",
      "metadata": {
        "id": "jpDbZ71TBXon"
      },
      "source": [
        "5. $ \\forall y \\owns (0: \\frac{\\pi}2] \\exists \\varepsilon > 0; sin(y) < sin(y+ \\varepsilon)$ Читается: \"Для всех $y$, в интервале от 0 до $\\frac{\\pi}2$ включительно, существует некоторая величина эпсилон больше нуля, такая, что $sin(y) < sin(y+ \\varepsilon)$. Высказывание истинно поскольку в интервале $(0: \\frac{\\pi}2]$ функция синус монотонно возрастает до значения 1, следовательно любое положительное приращение аргумента на величину $\\varepsilon$ приведет к увеличению значения функции. Отрицание утверждения: $ \\overline{(\\forall y \\owns (0; \\frac{\\pi}2] \\exists \\varepsilon > 0: sin[y] < sin[y+ \\varepsilon])} = \\exists y \\owns (0; \\frac{\\pi}2] \\forall \\varepsilon > 0: sin(y) \\ge sin(y+ \\varepsilon)$. Читается: \"Для некоторых $y$, находящихся в интервале от $(0: \\frac{\\pi}2]$, при любых значениях эпсилон больше нуля, значение $sin(y)$ будет больше значения $ sin(y+ \\varepsilon)$. Данное высказывание истинно, потому что для некоторых y при положительных значениях эпсилон сумма $ y+ \\varepsilon$ выйдет из интервала $(0; \\frac{\\pi}2]$ и попадет на участок где синус монотонно убывает."
      ]
    },
    {
      "cell_type": "markdown",
      "metadata": {
        "id": "t9kPtZ-2ISJ_"
      },
      "source": [
        "6. $ \\forall y \\owns [0; \\pi) \\exists \\varepsilon > 0: cosy > cos(y+\\varepsilon)$ Читается: \"Для всех $y$ находящихся в интервале от 0 до $\\pi$ не включая $\\pi$, значения $cosy$ больше $cos(y+\\varepsilon)$\". Высказывание ложно, поскольку на промежутке рассматриваемом промежутке функци косинуса монотонно убывает до значения $\\pi/2$, а потом возрастает на оставшемся промежутке, таким образом высказывание истинно лищь для некоторых значений $y$. Отрицание высказывания: \"$ \\overline{(\\forall y \\owns [0; \\pi) \\exists \\varepsilon > 0: cosy > cos(y+\\varepsilon))}= \\exists y \\owns [0; \\pi): cosy \\le cos(y+ \\varepsilon)$\". Читается: \"Существуют некоторые значения $y$ находящиеся в интервале от 0 до $\\pi$ не влючительно, что $cosy \\le cos(y+ \\varepsilon)$\". Высказывание истинно, поскольку для  $y <\\pi/2$, функция косинуса будет находится на монотонно убывающем участке, где минимальное положительное приращение будет уменьшать значение функции."
      ]
    },
    {
      "cell_type": "markdown",
      "metadata": {
        "id": "sWZbbelSTWXZ"
      },
      "source": [
        "7. $ \\exists x \\notin \\{\\mathbf{N,Z,Q,R,C}\\}$ Читается: \"Существуют некоторые $x$, не принадлежащие множествам: натуральных, целых, рациональных, вещественных и комплексных числел.\" Высказывание истинно поскользу некоторые числа Х могут относится к более \"старшим\" множествам универсума, например к гиперкомплексным числам. Отрицание высказывания: $ \\overline{(\\exists x \\notin \\{\\mathbf{N,Z,Q,R,C}\\})} = \\forall x \\notin \\{\\mathbf{N,Z,Q,R,C}\\} $  Читается: \"Любое $x$ не принадлежит множествам натуральных, целых, рациональных, вещественных и комплексных чисел.\" Высказывание ложно, поскольку нельзя утверждать для любого значения х принадлженость к основным множествам чисел."
      ]
    },
    {
      "cell_type": "markdown",
      "metadata": {
        "id": "Q5rhqM6Mbhpj"
      },
      "source": [
        "### Задание2"
      ]
    },
    {
      "cell_type": "markdown",
      "metadata": {
        "id": "n3TDH24ebpNF"
      },
      "source": [
        "Даны три множества a,b и с. Необходимо выполнить все изученные виды бинарных операций над всеми комбинациями множеств."
      ]
    },
    {
      "cell_type": "code",
      "metadata": {
        "id": "fzIarUX5b4gV"
      },
      "source": [
        "# зададим множества средствами языка Python\n",
        "a = {1,2,3,4, \"пять\", \"шесть\", \"семь\"}\n",
        "b = {0,2,5,6, \"семь\", \"восемь\"}\n",
        "c = {1,5,6, \"три\", \"четыре\", \"два\"}"
      ],
      "execution_count": 28,
      "outputs": []
    },
    {
      "cell_type": "code",
      "metadata": {
        "colab": {
          "base_uri": "https://localhost:8080/"
        },
        "id": "PMn9Xo1xc6c4",
        "outputId": "16e0d874-8375-4c66-9938-bb38f6fcb699"
      },
      "source": [
        "# выполним бинарные операции над заданными множествами:\n",
        "# 1. Дополнение\n",
        "a.update(b,c)\n",
        "print(a)"
      ],
      "execution_count": 30,
      "outputs": [
        {
          "output_type": "stream",
          "name": "stdout",
          "text": [
            "{'семь', 1, 2, 3, 4, 0, 'шесть', 5, 6, 'два', 'четыре', 'восемь', 'пять', 'три'}\n"
          ]
        }
      ]
    },
    {
      "cell_type": "code",
      "metadata": {
        "colab": {
          "base_uri": "https://localhost:8080/"
        },
        "id": "qF5DkKcqeTHF",
        "outputId": "1a6891ca-3209-4b2c-83ac-a081338cb6f4"
      },
      "source": [
        "# 2. Объединение\n",
        "a.union(b,c)\n",
        "a"
      ],
      "execution_count": 31,
      "outputs": [
        {
          "output_type": "execute_result",
          "data": {
            "text/plain": [
              "{0,\n",
              " 1,\n",
              " 2,\n",
              " 3,\n",
              " 4,\n",
              " 5,\n",
              " 6,\n",
              " 'восемь',\n",
              " 'два',\n",
              " 'пять',\n",
              " 'семь',\n",
              " 'три',\n",
              " 'четыре',\n",
              " 'шесть'}"
            ]
          },
          "metadata": {},
          "execution_count": 31
        }
      ]
    },
    {
      "cell_type": "code",
      "metadata": {
        "colab": {
          "base_uri": "https://localhost:8080/"
        },
        "id": "wSHPrbJ6fok-",
        "outputId": "a301a128-3028-4f85-b8dd-f39d65632228"
      },
      "source": [
        "# 3. Пересечение\n",
        "a.intersection(b,c)\n",
        "a"
      ],
      "execution_count": 32,
      "outputs": [
        {
          "output_type": "execute_result",
          "data": {
            "text/plain": [
              "{0,\n",
              " 1,\n",
              " 2,\n",
              " 3,\n",
              " 4,\n",
              " 5,\n",
              " 6,\n",
              " 'восемь',\n",
              " 'два',\n",
              " 'пять',\n",
              " 'семь',\n",
              " 'три',\n",
              " 'четыре',\n",
              " 'шесть'}"
            ]
          },
          "metadata": {},
          "execution_count": 32
        }
      ]
    },
    {
      "cell_type": "code",
      "metadata": {
        "colab": {
          "base_uri": "https://localhost:8080/"
        },
        "id": "NIoX8jgYgatM",
        "outputId": "f5c93ae9-6c19-4df4-f410-18a41e7f8570"
      },
      "source": [
        "# 4. Разность\n",
        "b.difference(a,c)\n",
        "b"
      ],
      "execution_count": 33,
      "outputs": [
        {
          "output_type": "execute_result",
          "data": {
            "text/plain": [
              "{0, 2, 5, 6, 'восемь', 'семь'}"
            ]
          },
          "metadata": {},
          "execution_count": 33
        }
      ]
    },
    {
      "cell_type": "code",
      "metadata": {
        "colab": {
          "base_uri": "https://localhost:8080/"
        },
        "id": "4RvUv0yjgz9h",
        "outputId": "36c874ac-e57c-4e74-a978-a42ab6106b11"
      },
      "source": [
        "# 5. Симметрическая разность\n",
        "c.symmetric_difference(b)"
      ],
      "execution_count": 35,
      "outputs": [
        {
          "output_type": "execute_result",
          "data": {
            "text/plain": [
              "{0, 1, 2, 'восемь', 'два', 'семь', 'три', 'четыре'}"
            ]
          },
          "metadata": {},
          "execution_count": 35
        }
      ]
    }
  ]
}